{
 "cells": [
  {
   "cell_type": "code",
   "execution_count": 1,
   "metadata": {},
   "outputs": [],
   "source": [
    "\n",
    "kn = 280e-6\n",
    "kp = 70e-6\n",
    "\n",
    "L = 0.2e-6\n",
    "\n",
    "CL = 5e-12\n",
    "\n",
    "VGST1 = 0.2\n",
    "VGST2 = 0.2\n",
    "VGST3 = 0.2\n",
    "VGST4 = 0.2\n",
    "VGST7 = 0.2\n",
    "\n",
    "\n",
    "def est(i, vgst=0.2, norp='n'):\n",
    "    if norp == 'n':\n",
    "        return 2 * i / kn * L / (vgst)**2 * 1e6\n",
    "    if norp == 'p':\n",
    "        return 2 * i / kp * L / (vgst)**2 * 1e6"
   ]
  },
  {
   "cell_type": "code",
   "execution_count": 4,
   "metadata": {},
   "outputs": [
    {
     "name": "stdout",
     "output_type": "stream",
     "text": [
      "尾电流 WN1  44.642857142857146\n",
      "差分对 WI  3.5714285714285707\n",
      "电流放大器 WB2  27.936507936507944\n",
      "电流放大器 WB3  2.5396825396825404\n",
      "电流放大器 WB4 WB5  0.6349206349206351\n",
      "电流pmos WB7  1.4285714285714284\n",
      "电流nmos WB6  0.3571428571428571\n"
     ]
    }
   ],
   "source": [
    "print('尾电流 WN1 ', est(200e-6, 0.08, 'n'))\n",
    "print('差分对 WI ', est(100e-6, 0.2, 'n'))\n",
    "print('电流放大器 WB2 ', est(110e-6, 0.15, 'p'))\n",
    "print('电流放大器 WB3 ', est(10e-6, 0.15, 'p'))\n",
    "print('电流放大器 WB4 WB5 ', est(10e-6, 0.15, 'n'))\n",
    "print('电流pmos WB7 ', est(10e-6, 0.2, 'p'))\n",
    "print('电流nmos WB6 ', est(10e-6, 0.2, 'n'))"
   ]
  },
  {
   "cell_type": "code",
   "execution_count": 3,
   "metadata": {},
   "outputs": [
    {
     "data": {
      "text/plain": [
       "3.5714285714285707"
      ]
     },
     "execution_count": 3,
     "metadata": {},
     "output_type": "execute_result"
    }
   ],
   "source": []
  },
  {
   "cell_type": "code",
   "execution_count": 8,
   "metadata": {},
   "outputs": [
    {
     "data": {
      "text/plain": [
       "42.85714285714284"
      ]
     },
     "execution_count": 8,
     "metadata": {},
     "output_type": "execute_result"
    }
   ],
   "source": [
    "est(1200e-6, 'n')"
   ]
  },
  {
   "cell_type": "code",
   "execution_count": null,
   "metadata": {},
   "outputs": [],
   "source": []
  }
 ],
 "metadata": {
  "kernelspec": {
   "display_name": "Python 3",
   "language": "python",
   "name": "python3"
  },
  "language_info": {
   "codemirror_mode": {
    "name": "ipython",
    "version": 3
   },
   "file_extension": ".py",
   "mimetype": "text/x-python",
   "name": "python",
   "nbconvert_exporter": "python",
   "pygments_lexer": "ipython3",
   "version": "3.8.6"
  }
 },
 "nbformat": 4,
 "nbformat_minor": 2
}
